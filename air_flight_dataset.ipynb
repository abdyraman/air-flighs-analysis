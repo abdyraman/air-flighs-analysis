{
  "nbformat": 4,
  "nbformat_minor": 0,
  "metadata": {
    "colab": {
      "provenance": [],
      "authorship_tag": "ABX9TyOWlaFgaOTKTrW3xXaoy3nz",
      "include_colab_link": true
    },
    "kernelspec": {
      "name": "python3",
      "display_name": "Python 3"
    },
    "language_info": {
      "name": "python"
    }
  },
  "cells": [
    {
      "cell_type": "markdown",
      "metadata": {
        "id": "view-in-github",
        "colab_type": "text"
      },
      "source": [
        "<a href=\"https://colab.research.google.com/github/abdyraman/air-flighs-analysis/blob/main/air_flight_dataset.ipynb\" target=\"_parent\"><img src=\"https://colab.research.google.com/assets/colab-badge.svg\" alt=\"Open In Colab\"/></a>"
      ]
    },
    {
      "cell_type": "code",
      "execution_count": 66,
      "metadata": {
        "id": "PjC3ApvVgfjG"
      },
      "outputs": [],
      "source": [
        "import numpy as np\n",
        "import pandas as pd\n",
        "import matplotlib.pyplot as plt\n",
        "import seaborn as sns"
      ]
    },
    {
      "cell_type": "code",
      "source": [
        "df_airlines = pd.read_csv('airlines.csv')\n",
        "df_airports = pd.read_csv('airports.csv')\n",
        "df_flights = pd.read_csv('flights.csv', low_memory=False)\n",
        "df_flights_backup = df_flights.copy()"
      ],
      "metadata": {
        "id": "wb4PMsHkrVCZ"
      },
      "execution_count": 67,
      "outputs": []
    },
    {
      "cell_type": "markdown",
      "source": [
        "Let's clean our Datasets first by removing null values."
      ],
      "metadata": {
        "id": "VV28AQU_zO42"
      }
    },
    {
      "cell_type": "code",
      "source": [
        "df_flights.isnull().sum()"
      ],
      "metadata": {
        "colab": {
          "base_uri": "https://localhost:8080/"
        },
        "id": "snlyF884zNJc",
        "outputId": "93d4af65-2f78-4ad6-a00d-4835db52fd6a"
      },
      "execution_count": 68,
      "outputs": [
        {
          "output_type": "execute_result",
          "data": {
            "text/plain": [
              "YEAR                         0\n",
              "MONTH                        0\n",
              "DAY                          0\n",
              "DAY_OF_WEEK                  0\n",
              "AIRLINE                      0\n",
              "FLIGHT_NUMBER                0\n",
              "TAIL_NUMBER              14721\n",
              "ORIGIN_AIRPORT               0\n",
              "DESTINATION_AIRPORT          0\n",
              "SCHEDULED_DEPARTURE          0\n",
              "DEPARTURE_TIME           86153\n",
              "DEPARTURE_DELAY          86153\n",
              "TAXI_OUT                 89047\n",
              "WHEELS_OFF               89047\n",
              "SCHEDULED_TIME               6\n",
              "ELAPSED_TIME            105071\n",
              "AIR_TIME                105071\n",
              "DISTANCE                     0\n",
              "WHEELS_ON                92513\n",
              "TAXI_IN                  92513\n",
              "SCHEDULED_ARRIVAL            0\n",
              "ARRIVAL_TIME             92513\n",
              "ARRIVAL_DELAY           105071\n",
              "DIVERTED                     0\n",
              "CANCELLED                    0\n",
              "CANCELLATION_REASON    5729195\n",
              "AIR_SYSTEM_DELAY       4755640\n",
              "SECURITY_DELAY         4755640\n",
              "AIRLINE_DELAY          4755640\n",
              "LATE_AIRCRAFT_DELAY    4755640\n",
              "WEATHER_DELAY          4755640\n",
              "dtype: int64"
            ]
          },
          "metadata": {},
          "execution_count": 68
        }
      ]
    },
    {
      "cell_type": "code",
      "source": [
        "for col in df_flights.columns:\n",
        "    if(len(df_flights[col].unique()) <= 50):\n",
        "        print(col, df_flights[col].unique())"
      ],
      "metadata": {
        "colab": {
          "base_uri": "https://localhost:8080/"
        },
        "id": "EV-oGLM80jJD",
        "outputId": "07e462f8-3e9a-4ab4-b35f-f763c7db6b30"
      },
      "execution_count": 69,
      "outputs": [
        {
          "output_type": "stream",
          "name": "stdout",
          "text": [
            "YEAR [2015]\n",
            "MONTH [ 1  2  3  4  5  6  7  8  9 10 11 12]\n",
            "DAY [ 1  2  3  4  5  6  7  8  9 10 11 12 13 14 15 16 17 18 19 20 21 22 23 24\n",
            " 25 26 27 28 29 30 31]\n",
            "DAY_OF_WEEK [4 5 6 7 1 2 3]\n",
            "AIRLINE ['AS' 'AA' 'US' 'DL' 'NK' 'UA' 'HA' 'B6' 'OO' 'EV' 'MQ' 'F9' 'WN' 'VX']\n",
            "DIVERTED [0 1]\n",
            "CANCELLED [0 1]\n",
            "CANCELLATION_REASON [nan 'A' 'B' 'C' 'D']\n"
          ]
        }
      ]
    },
    {
      "cell_type": "markdown",
      "source": [
        "CANCELLATION_REASON has many null values as it's found only when the flight is cancelled.we can see the values count in it to see why the flight might be cancelled.\n",
        "\n",
        "add Codeadd Markdown\n",
        "A : Airline/Carrier B : Weather C : National Air System D : Security"
      ],
      "metadata": {
        "id": "XTHBGbML0z3X"
      }
    },
    {
      "cell_type": "code",
      "source": [
        "sns.countplot(data=df_flights[df_flights['CANCELLATION_REASON'].notnull()], y='CANCELLATION_REASON')"
      ],
      "metadata": {
        "colab": {
          "base_uri": "https://localhost:8080/"
        },
        "id": "ANAgoqID03ux",
        "outputId": "69bf7970-de01-407d-c100-3c056df65627"
      },
      "execution_count": 70,
      "outputs": [
        {
          "output_type": "execute_result",
          "data": {
            "text/plain": [
              "<Axes: xlabel='count', ylabel='CANCELLATION_REASON'>"
            ]
          },
          "metadata": {},
          "execution_count": 70
        }
      ]
    }
  ]
}